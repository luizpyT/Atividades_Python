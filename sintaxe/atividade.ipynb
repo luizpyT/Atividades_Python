{
 "cells": [
  {
   "cell_type": "markdown",
   "metadata": {},
   "source": [
    "## Verificador de Número Par ou Ímpar\n",
    "### Escreva um programa que verifica se um número digitado pelo usuário é par ou ímpar.\n",
    "\n"
   ]
  },
  {
   "cell_type": "code",
   "execution_count": 5,
   "metadata": {},
   "outputs": [
    {
     "name": "stdout",
     "output_type": "stream",
     "text": [
      "Esse número e par!\n"
     ]
    }
   ],
   "source": [
    "num = int(input(\"digite um numero: \" ))\n",
    "if num % 2 == 0:\n",
    "    print(\"Esse número é par!\")\n",
    "else:\n",
    "    print(\"Esse numero é ímpar\")"
   ]
  },
  {
   "cell_type": "markdown",
   "metadata": {},
   "source": [
    "## Média de Três Números\n",
    "### Faça um programa que pede três números ao usuário e calcula a média."
   ]
  },
  {
   "cell_type": "code",
   "execution_count": 1,
   "metadata": {},
   "outputs": [
    {
     "name": "stdout",
     "output_type": "stream",
     "text": [
      "A média é  6.0\n"
     ]
    }
   ],
   "source": [
    "num1 = float(input(\"digite um numero\"))\n",
    "num2 = float(input(\"digite um segundo numero\"))\n",
    "num3 = float(input(\"digite um terceiro numero\"))\n",
    "media =(num1+num2+num3)/3\n",
    "print(\"A média é: \",media)"
   ]
  },
  {
   "cell_type": "markdown",
   "metadata": {},
   "source": [
    "## Soma de Dois Números\n",
    "\n",
    "### Escreva um programa que solicita dois números ao usuário e imprime a soma."
   ]
  },
  {
   "cell_type": "code",
   "execution_count": 1,
   "metadata": {},
   "outputs": [],
   "source": [
    "num1 = float(input(\"Digite um número\"))\n",
    "num2 = float(input(\"Digite um número\"))\n",
    "soma = (num1+num2)\n",
    "print(\"A soma é: \", soma)"
   ]
  }
 ],
 "metadata": {
  "kernelspec": {
   "display_name": "Python 3",
   "language": "python",
   "name": "python3"
  },
  "language_info": {
   "codemirror_mode": {
    "name": "ipython",
    "version": 3
   },
   "file_extension": ".py",
   "mimetype": "text/x-python",
   "name": "python",
   "nbconvert_exporter": "python",
   "pygments_lexer": "ipython3",
   "version": "3.8.10"
  }
 },
 "nbformat": 4,
 "nbformat_minor": 2
}
