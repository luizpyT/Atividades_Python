{
 "cells": [
  {
   "cell_type": "markdown",
   "metadata": {},
   "source": [
    "## Verificador de Número Par ou Ímpar\n",
    "### Escreva um programa que verifica se um número digitado pelo usuário é par ou ímpar.\n",
    "\n"
   ]
  },
  {
   "cell_type": "code",
   "execution_count": 5,
   "metadata": {},
   "outputs": [
    {
     "name": "stdout",
     "output_type": "stream",
     "text": [
      "Esse número e par!\n"
     ]
    }
   ],
   "source": [
    "num = int(input(\"digite um numero: \" ))\n",
    "if num % 2 == 0:\n",
    "    print(\"Esse número é par!\")\n",
    "else:\n",
    "    print(\"Esse numero é ímpar\")"
   ]
  },
  {
   "cell_type": "markdown",
   "metadata": {},
   "source": [
    "## Média de Três Números\n",
    "### Faça um programa que pede três números ao usuário e calcula a média."
   ]
  },
  {
   "cell_type": "code",
   "execution_count": 1,
   "metadata": {},
   "outputs": [
    {
     "name": "stdout",
     "output_type": "stream",
     "text": [
      "A média é  6.0\n"
     ]
    }
   ],
   "source": [
    "num1 = float(input(\"digite um numero\"))\n",
    "num2 = float(input(\"digite um segundo numero\"))\n",
    "num3 = float(input(\"digite um terceiro numero\"))\n",
    "media =(num1+num2+num3)/3\n",
    "print(\"A média é: \",media)"
   ]
  },
  {
   "cell_type": "markdown",
   "metadata": {},
   "source": [
    "## Soma de Dois Números\n",
    "\n",
    "### Escreva um programa que solicita dois números ao usuário e imprime a soma."
   ]
  },
  {
   "cell_type": "code",
   "execution_count": 1,
   "metadata": {},
   "outputs": [],
   "source": [
    "num1 = float(input(\"Digite um número\"))\n",
    "num2 = float(input(\"Digite um número\"))\n",
    "soma = (num1+num2)\n",
    "print(\"A soma é: \", soma)"
   ]
  },
  {
   "cell_type": "markdown",
   "metadata": {},
   "source": [
    "## Contagem Regressiva\n",
    "### Escreva um programa que faz uma contagem regressiva a partir de um número fornecido pelo usuário até zero.\n",
    "\n"
   ]
  },
  {
   "cell_type": "code",
   "execution_count": 63,
   "metadata": {},
   "outputs": [
    {
     "name": "stdout",
     "output_type": "stream",
     "text": [
      "10\n",
      "9\n",
      "8\n",
      "7\n",
      "6\n",
      "5\n",
      "4\n",
      "3\n",
      "2\n",
      "1\n"
     ]
    }
   ],
   "source": [
    "import time\n",
    "cont = 10\n",
    "for c in range(0, cont):\n",
    "    print(cont)\n",
    "    time.sleep(1)\n",
    "    cont -= 1"
   ]
  },
  {
   "cell_type": "markdown",
   "metadata": {},
   "source": [
    "## Calculadora Simples\n",
    "### Escreva um programa que pede ao usuário dois números e uma operação básica (adição, subtração, multiplicação ou divisão) e imprime o resultado. "
   ]
  },
  {
   "cell_type": "code",
   "execution_count": 14,
   "metadata": {},
   "outputs": [
    {
     "ename": "SyntaxError",
     "evalue": "invalid syntax (418120483.py, line 12)",
     "output_type": "error",
     "traceback": [
      "\u001b[0;36m  Cell \u001b[0;32mIn[14], line 12\u001b[0;36m\u001b[0m\n\u001b[0;31m    else\u001b[0m\n\u001b[0m        ^\u001b[0m\n\u001b[0;31mSyntaxError\u001b[0m\u001b[0;31m:\u001b[0m invalid syntax\n"
     ]
    }
   ],
   "source": [
    "num1 = input(\"Digite o primeiro número: \")\n",
    "op = input(\"Digite a operaçao a ser feita(+,-,*,/): \")\n",
    "num2 = input(\"Digite o segundo número: \")\n",
    "if op == '+':\n",
    "    print(\"resultado:\", num1 + num2)\n",
    "elif op == '-':\n",
    "    print(\"resultado:\", num1 - num2)\n",
    "elif op == '*':\n",
    "    print(\"resultado:\", num1 * num2)\n",
    "elif op == '/':\n",
    "    print(\"resultado:\",num1 / num2)\n",
    "else:\n",
    "    print(\"Operaçao invalida.\")"
   ]
  }
 ],
 "metadata": {
  "kernelspec": {
   "display_name": "Python 3",
   "language": "python",
   "name": "python3"
  },
  "language_info": {
   "codemirror_mode": {
    "name": "ipython",
    "version": 3
   },
   "file_extension": ".py",
   "mimetype": "text/x-python",
   "name": "python",
   "nbconvert_exporter": "python",
   "pygments_lexer": "ipython3",
   "version": "3.8.10"
  }
 },
 "nbformat": 4,
 "nbformat_minor": 2
}
