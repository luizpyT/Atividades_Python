{
 "cells": [
  {
   "cell_type": "markdown",
   "metadata": {},
   "source": [
    "## Verificador de Número Par ou Ímpar\n",
    "### Escreva um programa que verifica se um número digitado pelo usuário é par ou ímpar.\n",
    "\n"
   ]
  },
  {
   "cell_type": "code",
   "execution_count": 5,
   "metadata": {},
   "outputs": [
    {
     "name": "stdout",
     "output_type": "stream",
     "text": [
      "Esse número e par!\n"
     ]
    }
   ],
   "source": [
    "num = int(input(\"digite um numero: \" ))\n",
    "if num % 2 == 0:\n",
    "    print(\"Esse número é par!\")\n",
    "else:\n",
    "    print(\"Esse numero é ímpar\")"
   ]
  },
  {
   "cell_type": "markdown",
   "metadata": {},
   "source": [
    "## Média de Três Números\n",
    "### Faça um programa que pede três números ao usuário e calcula a média."
   ]
  },
  {
   "cell_type": "code",
   "execution_count": 1,
   "metadata": {},
   "outputs": [
    {
     "name": "stdout",
     "output_type": "stream",
     "text": [
      "A média é  6.0\n"
     ]
    }
   ],
   "source": [
    "num1 = float(input(\"digite um numero\"))\n",
    "num2 = float(input(\"digite um segundo numero\"))\n",
    "num3 = float(input(\"digite um terceiro numero\"))\n",
    "media =(num1+num2+num3)/3\n",
    "print(\"A média é: \",media)"
   ]
  },
  {
   "cell_type": "markdown",
   "metadata": {},
   "source": [
    "## Soma de Dois Números\n",
    "\n",
    "### Escreva um programa que solicita dois números ao usuário e imprime a soma."
   ]
  },
  {
   "cell_type": "code",
   "execution_count": 1,
   "metadata": {},
   "outputs": [],
   "source": [
    "num1 = float(input(\"Digite um número\"))\n",
    "num2 = float(input(\"Digite um número\"))\n",
    "soma = (num1+num2)\n",
    "print(\"A soma é: \", soma)"
   ]
  },
  {
   "cell_type": "markdown",
   "metadata": {},
   "source": [
    "## Contagem Regressiva\n",
    "### Escreva um programa que faz uma contagem regressiva a partir de um número fornecido pelo usuário até zero.\n",
    "\n"
   ]
  },
  {
   "cell_type": "code",
   "execution_count": 13,
   "metadata": {},
   "outputs": [
    {
     "name": "stdout",
     "output_type": "stream",
     "text": [
      "5\n",
      "4\n",
      "3\n",
      "2\n",
      "1\n",
      "0\n"
     ]
    }
   ],
   "source": [
    "num = int(input(\"Informe um valor\"))\n",
    "cont = 0\n",
    "while cont<=num:\n",
    "    print(num)\n",
    "    num -= 1"
   ]
  },
  {
   "cell_type": "markdown",
   "metadata": {},
   "source": [
    "## Calculadora Simples\n",
    "### Escreva um programa que pede ao usuário dois números e uma operação básica (adição, subtração, multiplicação ou divisão) e imprime o resultado. "
   ]
  },
  {
   "cell_type": "code",
   "execution_count": 2,
   "metadata": {},
   "outputs": [
    {
     "name": "stdout",
     "output_type": "stream",
     "text": [
      "Resultado:  -7\n"
     ]
    }
   ],
   "source": [
    "num1 = int(input(\"Digite o primeiro número: \"))\n",
    "op = input(\"Digite a operaçao a ser feita(+,-,*,/): \")\n",
    "num2 = int(input(\"Digite o segundo número: \"))\n",
    "if op == '+':\n",
    "    result = num1 + num2\n",
    "elif op == '-':\n",
    "    result = num1 - num2\n",
    "elif op == '*':\n",
    "    result = num1 * num2\n",
    "elif op == '/':\n",
    "    result =num1 / num2\n",
    "else:\n",
    "    print(\"Operaçao invalida.\")\n",
    "print(\"Resultado: \", result)"
   ]
  },
  {
   "cell_type": "markdown",
   "metadata": {},
   "source": [
    "## Tipos de Variáveis\n",
    "### Exiba os tipos de dados das variáveis declaradas conforme o código abaixo."
   ]
  },
  {
   "cell_type": "code",
   "execution_count": 14,
   "metadata": {},
   "outputs": [],
   "source": [
    "var_int = 12\n",
    "# Número inteiro\n",
    "\n",
    "var_float = 15.3\n",
    "# Número com casas decimais\n",
    "\n",
    "var_string = 'Conjunto de caracteres alfanuméricos'\n",
    "# Incluindo símbolos, caracteres e/ou algarismos especiais\n",
    "\n",
    "var_lista = [1, 2, 'Paulo', 'Maria', True]\n",
    "# Lista de dados/valores\n",
    "\n",
    "var_dicionario = {'nome':'Fernando', 'idade':31}\n",
    "# Conjunto de dados:valores\n",
    "\n",
    "var_tupla = ('Ana', 'Fernando', 3)\n",
    "# Lista de dados/valores porém imutável\n",
    "\n",
    "var_set = {1999, 2000, 2001, 2002, 2003, 2004, 2005}\n",
    "# Conjunto de dados numéricos"
   ]
  },
  {
   "cell_type": "code",
   "execution_count": 16,
   "metadata": {},
   "outputs": [
    {
     "name": "stdout",
     "output_type": "stream",
     "text": [
      "<class 'int'>\n",
      "<class 'float'>\n",
      "<class 'str'>\n",
      "<class 'list'>\n",
      "<class 'dict'>\n",
      "<class 'tuple'>\n",
      "<class 'set'>\n"
     ]
    }
   ],
   "source": [
    "print(type(var_int))\n",
    "print(type(var_float))\n",
    "print(type(var_string))\n",
    "print(type(var_lista))\n",
    "print(type(var_dicionario))\n",
    "print(type(var_tupla))\n",
    "print(type(var_set))"
   ]
  },
  {
   "cell_type": "markdown",
   "metadata": {},
   "source": [
    "## Verificador de Categoria de Idade\n",
    "### Faça um programa que classifique a categoria de idade de uma pessoa em criança, adolescente, adulto jovem ou adulto. Use as seguintes faixas etárias: 0-12 para criança, 13-17 para adolescente, 18-29 para adulto jovem e 30 ou mais para adulto."
   ]
  },
  {
   "cell_type": "code",
   "execution_count": 19,
   "metadata": {},
   "outputs": [
    {
     "name": "stdout",
     "output_type": "stream",
     "text": [
      "Voce é um adulto.\n"
     ]
    }
   ],
   "source": [
    "idade = int(input(\"Informe a sua idade: \"))\n",
    "if idade <= 12:\n",
    "    print(\"É uma criança.\")\n",
    "\n",
    "elif idade >= 13 and idade <= 17: \n",
    "    print(\"Você é adolescente.\")\n",
    "\n",
    "elif idade >= 18 and idade <= 29:\n",
    "    print(\"Voce é um adulto jovem.\")\n",
    "\n",
    "else:\n",
    "    print(\"Voce é um adulto.\")\n"
   ]
  },
  {
   "cell_type": "markdown",
   "metadata": {},
   "source": [
    "## Validador de Senha\n",
    "### Faça um programa que solicite ao usuário que digite uma senha. Enquanto a senha digitada não for \"senha123\", continue pedindo ao usuário que digite novamente. Quando a senha correta for inserida, exiba a mensagem \"Acesso concedido!\".\n",
    "\n",
    "#### while = enquanto"
   ]
  },
  {
   "cell_type": "code",
   "execution_count": 20,
   "metadata": {},
   "outputs": [
    {
     "name": "stdout",
     "output_type": "stream",
     "text": [
      "Acesso concedido.\n"
     ]
    }
   ],
   "source": [
    "senha = input(\"Digite a senha.\")\n",
    "while senha != \"senha123\":\n",
    "    senha = input(\"Senha incorreta. Tente novamente.\")\n",
    "print(\"Acesso concedido.\")"
   ]
  },
  {
   "cell_type": "markdown",
   "metadata": {},
   "source": [
    "## Cálculo de Despesas Mensais\n",
    "### Escreva um programa que ajude uma pessoa a calcular suas despesas mensais. Peça ao usuário para inserir o valor das contas de água, luz e internet, e em seguida, calcule e exiba o total das despesas."
   ]
  },
  {
   "cell_type": "code",
   "execution_count": 21,
   "metadata": {},
   "outputs": [
    {
     "name": "stdout",
     "output_type": "stream",
     "text": [
      "O valor da despesa mensal é:  170.0\n"
     ]
    }
   ],
   "source": [
    "conta_agua = float(input(\"Informe a conta d'agua: \"))\n",
    "conta_luz = float(input(\"Informe a conta de luz: \"))\n",
    "conta_internet = float(input(\"Informe a conta de internet: \"))\n",
    "despesas = conta_agua + conta_luz + conta_internet\n",
    "print(\"O valor da despesa mensal é: \", despesas)"
   ]
  },
  {
   "cell_type": "markdown",
   "metadata": {},
   "source": [
    "## Tabuada com Limite de Números\n",
    "### Escreva um programa que peça ao usuário para digitar um número e, em seguida, exiba a tabuada desse número de 1 até 10. No entanto, limite a tabuada até o número 10."
   ]
  },
  {
   "cell_type": "code",
   "execution_count": 26,
   "metadata": {},
   "outputs": [
    {
     "name": "stdout",
     "output_type": "stream",
     "text": [
      "8 x 1 = 8\n",
      "8 x 2 = 16\n",
      "8 x 3 = 24\n",
      "8 x 4 = 32\n",
      "8 x 5 = 40\n",
      "8 x 6 = 48\n",
      "8 x 7 = 56\n",
      "8 x 8 = 64\n",
      "8 x 9 = 72\n",
      "8 x 10 = 80\n"
     ]
    }
   ],
   "source": [
    "tabuada = int(input(\"Digite um numero: \"))\n",
    "contador = 1\n",
    "while contador <= 10:\n",
    "    resultado = tabuada * contador\n",
    "    print(tabuada,\"x\", contador, \"=\", resultado)\n",
    "    contador = contador + 1"
   ]
  },
  {
   "cell_type": "markdown",
   "metadata": {},
   "source": [
    "## Verificador de Triângulos\n",
    "### Escreva um programa que peça ao usuário para inserir os comprimentos dos três lados de um triângulo e determine se o triângulo é equilátero, isósceles ou escaleno.\n",
    "\n"
   ]
  },
  {
   "cell_type": "code",
   "execution_count": 32,
   "metadata": {},
   "outputs": [
    {
     "name": "stdout",
     "output_type": "stream",
     "text": [
      "Triangulo escaleno.\n"
     ]
    }
   ],
   "source": [
    "lado1 = float(input(\"Digite o comprimento do primeiro lado: \"))\n",
    "lado2 = float(input(\"Digite o comprimento do segundo lado: \"))\n",
    "lado3 = float(input(\"Digite o comprimento do terceiro lado: \"))\n",
    "\n",
    "if lado1 == lado2 == lado3:\n",
    "    print(\"Triangulo equilatero.\")\n",
    "elif lado1 == lado2 or lado1 == lado3 or lado2 == lado3:\n",
    "    print(\"O triangolo é isosceles.\")\n",
    "else:\n",
    "    print(\"Triangulo escaleno.\")\n"
   ]
  },
  {
   "cell_type": "markdown",
   "metadata": {},
   "source": [
    "## Calculadora de Desconto de Compra\n",
    "### Faça um programa que calcule o desconto a ser aplicado em uma compra com base no valor total da compra. Se o valor total for maior que R$100, aplique um desconto de 10%; caso contrário, não aplique desconto."
   ]
  },
  {
   "cell_type": "code",
   "execution_count": 34,
   "metadata": {},
   "outputs": [
    {
     "name": "stdout",
     "output_type": "stream",
     "text": [
      "O valor total da compra é R$90.00.Nao ha desconto aplicavel.\n"
     ]
    }
   ],
   "source": [
    "valor_total = float(input(\"Digite o valor total da compra: \"))\n",
    "\n",
    "if valor_total > 100:\n",
    "    desconto = valor_total * 0.1\n",
    "    valor_final = valor_total - desconto\n",
    "    print(\"Parabens! Voce ganhou um desconto de R${:.2f}. O valor final da compra é R${:.2f}.\".format(desconto,valor_final))\n",
    "else:\n",
    "    print(\"O valor total da compra é R${:.2f}.Nao ha desconto aplicavel.\".format(valor_total))"
   ]
  }
 ],
 "metadata": {
  "kernelspec": {
   "display_name": "Python 3",
   "language": "python",
   "name": "python3"
  },
  "language_info": {
   "codemirror_mode": {
    "name": "ipython",
    "version": 3
   },
   "file_extension": ".py",
   "mimetype": "text/x-python",
   "name": "python",
   "nbconvert_exporter": "python",
   "pygments_lexer": "ipython3",
   "version": "3.8.10"
  }
 },
 "nbformat": 4,
 "nbformat_minor": 2
}
